{
 "cells": [
  {
   "cell_type": "code",
   "execution_count": 2,
   "metadata": {},
   "outputs": [
    {
     "name": "stdout",
     "output_type": "stream",
     "text": [
      "[0.13603726 0.15135274 0.13510546 0.13549137 0.13907255 0.1458189\n",
      " 0.13420502 0.13818416 0.14157844]\n"
     ]
    }
   ],
   "source": [
    "import csv\n",
    "import numpy as np\n",
    "\n",
    "# Read the CSV file\n",
    "file_path = '/home/metamobility/Changseob/IDL/Group_Project/Updated_BilatTCN_JiminV2-master/Updated_BilatTCN_JiminV2-master/training_result.csv'\n",
    "val_loss = []\n",
    "\n",
    "with open(file_path, mode='r') as file:\n",
    "    reader = csv.reader(file)\n",
    "    next(reader)  # Skip the header row\n",
    "    for row in reader:\n",
    "        val_loss.append(float(row[3]))  # Assuming 'Val Loss' is the second column\n",
    "\n",
    "# Find the minimum Val Loss value for every 50 rows\n",
    "min_val_loss = [min(val_loss[i:i+50]) for i in range(0, len(val_loss), 50)]\n",
    "\n",
    "print(np.array(min_val_loss).T)"
   ]
  },
  {
   "cell_type": "code",
   "execution_count": 5,
   "metadata": {},
   "outputs": [
    {
     "name": "stdout",
     "output_type": "stream",
     "text": [
      "{'Baseline': 0.13603725505238476, 'Transformer': 0.15135274270995835, 'AddNoise(scale = 0.01)': 0.13510545683940026, 'Convolve(size = 10)': 0.135491365176233, 'Dropout(p = 0.1)': 0.13907255130350465, 'Pool(size = 2)': 0.14581889740176007, 'Quantize(n_levels = 10)': 0.13420501807829643, 'Quantize(n_levels = 5)': 0.1381841626543598, 'Quantize(n_levels = 20)': 0.141578444801194}\n",
      "{'Transformer': 11.258303948926313, 'AddNoise(scale = 0.01)': -0.6849581113833038, 'Convolve(size = 10)': -0.4012796905829559, 'Dropout(p = 0.1)': 2.2312242701097387, 'Pool(size = 2)': 7.190414379949546, 'Quantize(n_levels = 10)': -1.3468641170264524, 'Quantize(n_levels = 5)': 1.57817621441149, 'Quantize(n_levels = 20)': 4.073288414027067}\n"
     ]
    }
   ],
   "source": [
    "variable_names = [\n",
    "    \"Baseline\", \n",
    "    \"Transformer\", \n",
    "    \"AddNoise(scale = 0.01)\", \n",
    "    \"Convolve(size = 10)\", \n",
    "    \"Dropout(p = 0.1)\", \n",
    "    \"Pool(size = 2)\", \n",
    "    \"Quantize(n_levels = 10)\", \n",
    "    \"Quantize(n_levels = 5)\", \n",
    "    \"Quantize(n_levels = 20)\"\n",
    "]\n",
    "\n",
    "min_val_loss_dict = dict(zip(variable_names, min_val_loss))\n",
    "print(min_val_loss_dict)\n",
    "\n",
    "baseline_value = min_val_loss_dict[\"Baseline\"]\n",
    "\n",
    "comparison_dict = {key: ((value - baseline_value) / baseline_value) * 100 for key, value in min_val_loss_dict.items() if key != \"Baseline\"}\n",
    "print(comparison_dict)"
   ]
  },
  {
   "cell_type": "code",
   "execution_count": null,
   "metadata": {},
   "outputs": [],
   "source": []
  },
  {
   "cell_type": "code",
   "execution_count": null,
   "metadata": {},
   "outputs": [],
   "source": []
  }
 ],
 "metadata": {
  "kernelspec": {
   "display_name": "changseob_initial",
   "language": "python",
   "name": "python3"
  },
  "language_info": {
   "codemirror_mode": {
    "name": "ipython",
    "version": 3
   },
   "file_extension": ".py",
   "mimetype": "text/x-python",
   "name": "python",
   "nbconvert_exporter": "python",
   "pygments_lexer": "ipython3",
   "version": "3.12.5"
  }
 },
 "nbformat": 4,
 "nbformat_minor": 2
}
